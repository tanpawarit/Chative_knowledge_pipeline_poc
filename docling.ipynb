{
 "cells": [
  {
   "cell_type": "code",
   "execution_count": 31,
   "id": "98117039",
   "metadata": {},
   "outputs": [
    {
     "name": "stderr",
     "output_type": "stream",
     "text": [
      "2025-09-27 19:51:06,457 - INFO - detected formats: [<InputFormat.PDF: 'pdf'>]\n",
      "2025-09-27 19:51:06,466 - INFO - Going to convert document batch...\n",
      "2025-09-27 19:51:06,467 - INFO - Initializing pipeline for StandardPdfPipeline with options hash e647edf348883bed75367b22fbe60347\n",
      "2025-09-27 19:51:06,468 - INFO - Accelerator device: 'mps'\n",
      "2025-09-27 19:51:08,160 - INFO - Accelerator device: 'mps'\n",
      "2025-09-27 19:51:10,044 - INFO - Accelerator device: 'mps'\n",
      "2025-09-27 19:51:10,453 - INFO - Processing document 2509.04343v1.pdf\n",
      "2025-09-27 19:51:25,704 - INFO - Finished converting document 2509.04343v1.pdf in 19.46 sec.\n"
     ]
    }
   ],
   "source": [
    "import pandas as pd\n",
    "from docling.document_converter import DocumentConverter\n",
    "\n",
    "source = \"https://arxiv.org/pdf/2509.04343\"  # document per local path or URL\n",
    "converter = DocumentConverter()\n",
    "result = converter.convert(source, max_file_size=20971520) \n"
   ]
  },
  {
   "cell_type": "code",
   "execution_count": 2,
   "id": "81303215",
   "metadata": {},
   "outputs": [
    {
     "name": "stderr",
     "output_type": "stream",
     "text": [
      "/Users/pawarison/dev/knowledge_pipeline_poc/.venv/lib/python3.12/site-packages/tqdm/auto.py:21: TqdmWarning: IProgress not found. Please update jupyter and ipywidgets. See https://ipywidgets.readthedocs.io/en/stable/user_install.html\n",
      "  from .autonotebook import tqdm as notebook_tqdm\n",
      "2025-09-27 21:28:31,064 - INFO - detected formats: [<InputFormat.PDF: 'pdf'>]\n",
      "2025-09-27 21:28:31,104 - INFO - Going to convert document batch...\n",
      "2025-09-27 21:28:31,105 - INFO - Initializing pipeline for StandardPdfPipeline with options hash 7db6784db97c05e60716539d4152b361\n",
      "2025-09-27 21:28:31,108 - INFO - Loading plugin 'docling_defaults'\n",
      "2025-09-27 21:28:31,109 - INFO - Registered picture descriptions: ['vlm', 'api']\n",
      "2025-09-27 21:28:31,121 - INFO - Accelerator device: 'mps'\n",
      "2025-09-27 21:28:31,712 - INFO - Loading plugin 'docling_defaults'\n",
      "2025-09-27 21:28:31,714 - INFO - Registered ocr engines: ['easyocr', 'ocrmac', 'rapidocr', 'tesserocr', 'tesseract']\n",
      "2025-09-27 21:28:31,797 - INFO - Accelerator device: 'mps'\n",
      "2025-09-27 21:28:33,319 - INFO - Accelerator device: 'mps'\n",
      "2025-09-27 21:28:34,471 - INFO - Accelerator device: 'mps'\n",
      "2025-09-27 21:28:34,896 - INFO - Processing document 2509.04343v1.pdf\n",
      "2025-09-27 21:28:53,170 - INFO - Finished converting document 2509.04343v1.pdf in 22.35 sec.\n"
     ]
    }
   ],
   "source": [
    "from docling.datamodel.base_models import InputFormat\n",
    "from docling.document_converter import DocumentConverter, PdfFormatOption\n",
    "from docling.datamodel.pipeline_options import PdfPipelineOptions\n",
    "\n",
    "source = \"https://arxiv.org/pdf/2509.04343\"  # document per local path or URL\n",
    "\n",
    "pipeline_options = PdfPipelineOptions(do_table_structure=True)\n",
    "pipeline_options.table_structure_options.do_cell_matching = False  # uses text cells predicted from table structure model\n",
    "pipeline_options.generate_picture_images = True\n",
    "pipeline_options.images_scale = 2\n",
    "pipeline_options.do_picture_classification = True\n",
    "\n",
    "doc_converter = DocumentConverter(\n",
    "    format_options={\n",
    "        InputFormat.PDF: PdfFormatOption(pipeline_options=pipeline_options)\n",
    "    }\n",
    ")\n",
    "result = doc_converter.convert(source, max_file_size=20971520)"
   ]
  }
 ],
 "metadata": {
  "kernelspec": {
   "display_name": "knowledge-pipeline-poc",
   "language": "python",
   "name": "python3"
  },
  "language_info": {
   "codemirror_mode": {
    "name": "ipython",
    "version": 3
   },
   "file_extension": ".py",
   "mimetype": "text/x-python",
   "name": "python",
   "nbconvert_exporter": "python",
   "pygments_lexer": "ipython3",
   "version": "3.12.11"
  }
 },
 "nbformat": 4,
 "nbformat_minor": 5
}
